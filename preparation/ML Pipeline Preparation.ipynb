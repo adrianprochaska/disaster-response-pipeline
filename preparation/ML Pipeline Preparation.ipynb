{
 "cells": [
  {
   "cell_type": "markdown",
   "metadata": {},
   "source": [
    "# ML Pipeline Preparation\n",
    "Follow the instructions below to help you create your ML pipeline.\n",
    "### 1. Import libraries and load data from database.\n",
    "- Import Python libraries\n",
    "- Load dataset from database with [`read_sql_table`](https://pandas.pydata.org/pandas-docs/stable/generated/pandas.read_sql_table.html)\n",
    "- Define feature and target variables X and Y"
   ]
  },
  {
   "cell_type": "code",
   "execution_count": 31,
   "metadata": {
    "tags": []
   },
   "outputs": [],
   "source": [
    "# import libraries\n",
    "import numpy as np\n",
    "import pandas as pd\n",
    "import matplotlib.pyplot as plt\n",
    "from scipy import sparse\n",
    "\n",
    "from sqlalchemy import create_engine\n",
    "import re\n",
    "\n",
    "import nltk\n",
    "from nltk.tokenize import word_tokenize\n",
    "from nltk.corpus import stopwords\n",
    "from nltk.stem.wordnet import WordNetLemmatizer\n",
    "\n",
    "from sklearn.multioutput import MultiOutputClassifier\n",
    "from sklearn.model_selection import train_test_split\n",
    "from sklearn.pipeline import FeatureUnion\n",
    "from sklearn.feature_extraction.text import CountVectorizer, TfidfTransformer\n",
    "from sklearn.linear_model import LogisticRegression, LogisticRegressionCV\n",
    "from sklearn.naive_bayes import MultinomialNB\n",
    "from sklearn.metrics import classification_report\n",
    "from sklearn.model_selection import GridSearchCV\n",
    "from sklearn.ensemble import RandomForestClassifier\n",
    "\n",
    "from imblearn.over_sampling import SMOTE\n",
    "from imblearn.pipeline import Pipeline\n",
    "\n",
    "import pickle"
   ]
  },
  {
   "cell_type": "code",
   "execution_count": 3,
   "metadata": {},
   "outputs": [
    {
     "name": "stderr",
     "output_type": "stream",
     "text": [
      "[nltk_data] Downloading package punkt to\n",
      "[nltk_data]     C:\\Users\\adria\\AppData\\Roaming\\nltk_data...\n",
      "[nltk_data]   Package punkt is already up-to-date!\n",
      "[nltk_data] Downloading package stopwords to\n",
      "[nltk_data]     C:\\Users\\adria\\AppData\\Roaming\\nltk_data...\n",
      "[nltk_data]   Package stopwords is already up-to-date!\n",
      "[nltk_data] Downloading package wordnet to\n",
      "[nltk_data]     C:\\Users\\adria\\AppData\\Roaming\\nltk_data...\n",
      "[nltk_data]   Package wordnet is already up-to-date!\n"
     ]
    },
    {
     "data": {
      "text/plain": [
       "True"
      ]
     },
     "execution_count": 3,
     "metadata": {},
     "output_type": "execute_result"
    }
   ],
   "source": [
    "nltk.download('punkt')\n",
    "nltk.download('stopwords')\n",
    "nltk.download('wordnet')"
   ]
  },
  {
   "cell_type": "code",
   "execution_count": 4,
   "metadata": {},
   "outputs": [],
   "source": [
    "# load data from database\n",
    "engine = create_engine('sqlite:///InsertDatabaseName.db')\n",
    "df = pd.read_sql_table('InsertTableName', engine)\n",
    "X = df.loc[:, 'message']\n",
    "Y = df.iloc[:, 4:]"
   ]
  },
  {
   "cell_type": "code",
   "execution_count": 67,
   "metadata": {},
   "outputs": [
    {
     "data": {
      "text/html": [
       "<div>\n",
       "<style scoped>\n",
       "    .dataframe tbody tr th:only-of-type {\n",
       "        vertical-align: middle;\n",
       "    }\n",
       "\n",
       "    .dataframe tbody tr th {\n",
       "        vertical-align: top;\n",
       "    }\n",
       "\n",
       "    .dataframe thead th {\n",
       "        text-align: right;\n",
       "    }\n",
       "</style>\n",
       "<table border=\"1\" class=\"dataframe\">\n",
       "  <thead>\n",
       "    <tr style=\"text-align: right;\">\n",
       "      <th></th>\n",
       "      <th>id</th>\n",
       "      <th>message</th>\n",
       "      <th>original</th>\n",
       "      <th>related</th>\n",
       "      <th>request</th>\n",
       "      <th>offer</th>\n",
       "      <th>aid_related</th>\n",
       "      <th>medical_help</th>\n",
       "      <th>medical_products</th>\n",
       "      <th>search_and_rescue</th>\n",
       "      <th>...</th>\n",
       "      <th>aid_centers</th>\n",
       "      <th>other_infrastructure</th>\n",
       "      <th>weather_related</th>\n",
       "      <th>floods</th>\n",
       "      <th>storm</th>\n",
       "      <th>fire</th>\n",
       "      <th>earthquake</th>\n",
       "      <th>cold</th>\n",
       "      <th>other_weather</th>\n",
       "      <th>direct_report</th>\n",
       "    </tr>\n",
       "    <tr>\n",
       "      <th>genre</th>\n",
       "      <th></th>\n",
       "      <th></th>\n",
       "      <th></th>\n",
       "      <th></th>\n",
       "      <th></th>\n",
       "      <th></th>\n",
       "      <th></th>\n",
       "      <th></th>\n",
       "      <th></th>\n",
       "      <th></th>\n",
       "      <th></th>\n",
       "      <th></th>\n",
       "      <th></th>\n",
       "      <th></th>\n",
       "      <th></th>\n",
       "      <th></th>\n",
       "      <th></th>\n",
       "      <th></th>\n",
       "      <th></th>\n",
       "      <th></th>\n",
       "      <th></th>\n",
       "    </tr>\n",
       "  </thead>\n",
       "  <tbody>\n",
       "    <tr>\n",
       "      <th>direct</th>\n",
       "      <td>10696</td>\n",
       "      <td>10696</td>\n",
       "      <td>10094</td>\n",
       "      <td>10696</td>\n",
       "      <td>10696</td>\n",
       "      <td>10696</td>\n",
       "      <td>10696</td>\n",
       "      <td>10696</td>\n",
       "      <td>10696</td>\n",
       "      <td>10696</td>\n",
       "      <td>...</td>\n",
       "      <td>10696</td>\n",
       "      <td>10696</td>\n",
       "      <td>10696</td>\n",
       "      <td>10696</td>\n",
       "      <td>10696</td>\n",
       "      <td>10696</td>\n",
       "      <td>10696</td>\n",
       "      <td>10696</td>\n",
       "      <td>10696</td>\n",
       "      <td>10696</td>\n",
       "    </tr>\n",
       "    <tr>\n",
       "      <th>news</th>\n",
       "      <td>12960</td>\n",
       "      <td>12960</td>\n",
       "      <td>0</td>\n",
       "      <td>12960</td>\n",
       "      <td>12960</td>\n",
       "      <td>12960</td>\n",
       "      <td>12960</td>\n",
       "      <td>12960</td>\n",
       "      <td>12960</td>\n",
       "      <td>12960</td>\n",
       "      <td>...</td>\n",
       "      <td>12960</td>\n",
       "      <td>12960</td>\n",
       "      <td>12960</td>\n",
       "      <td>12960</td>\n",
       "      <td>12960</td>\n",
       "      <td>12960</td>\n",
       "      <td>12960</td>\n",
       "      <td>12960</td>\n",
       "      <td>12960</td>\n",
       "      <td>12960</td>\n",
       "    </tr>\n",
       "    <tr>\n",
       "      <th>social</th>\n",
       "      <td>2359</td>\n",
       "      <td>2359</td>\n",
       "      <td>0</td>\n",
       "      <td>2359</td>\n",
       "      <td>2359</td>\n",
       "      <td>2359</td>\n",
       "      <td>2359</td>\n",
       "      <td>2359</td>\n",
       "      <td>2359</td>\n",
       "      <td>2359</td>\n",
       "      <td>...</td>\n",
       "      <td>2359</td>\n",
       "      <td>2359</td>\n",
       "      <td>2359</td>\n",
       "      <td>2359</td>\n",
       "      <td>2359</td>\n",
       "      <td>2359</td>\n",
       "      <td>2359</td>\n",
       "      <td>2359</td>\n",
       "      <td>2359</td>\n",
       "      <td>2359</td>\n",
       "    </tr>\n",
       "  </tbody>\n",
       "</table>\n",
       "<p>3 rows × 39 columns</p>\n",
       "</div>"
      ],
      "text/plain": [
       "           id  message  original  related  request  offer  aid_related  \\\n",
       "genre                                                                    \n",
       "direct  10696    10696     10094    10696    10696  10696        10696   \n",
       "news    12960    12960         0    12960    12960  12960        12960   \n",
       "social   2359     2359         0     2359     2359   2359         2359   \n",
       "\n",
       "        medical_help  medical_products  search_and_rescue  ...  aid_centers  \\\n",
       "genre                                                      ...                \n",
       "direct         10696             10696              10696  ...        10696   \n",
       "news           12960             12960              12960  ...        12960   \n",
       "social          2359              2359               2359  ...         2359   \n",
       "\n",
       "        other_infrastructure  weather_related  floods  storm   fire  \\\n",
       "genre                                                                 \n",
       "direct                 10696            10696   10696  10696  10696   \n",
       "news                   12960            12960   12960  12960  12960   \n",
       "social                  2359             2359    2359   2359   2359   \n",
       "\n",
       "        earthquake   cold  other_weather  direct_report  \n",
       "genre                                                    \n",
       "direct       10696  10696          10696          10696  \n",
       "news         12960  12960          12960          12960  \n",
       "social        2359   2359           2359           2359  \n",
       "\n",
       "[3 rows x 39 columns]"
      ]
     },
     "execution_count": 67,
     "metadata": {},
     "output_type": "execute_result"
    }
   ],
   "source": []
  },
  {
   "cell_type": "code",
   "execution_count": 5,
   "metadata": {},
   "outputs": [
    {
     "data": {
      "image/png": "[encoded data removed]",
      "text/plain": [
       "<Figure size 640x480 with 1 Axes>"
      ]
     },
     "metadata": {},
     "output_type": "display_data"
    }
   ],
   "source": [
    "# look into the data a little bit\n",
    "column_names = Y.columns\n",
    "x = range(len(column_names))\n",
    "y = Y.sum()\n",
    "\n",
    "# histogramm of the labels\n",
    "fig, ax = plt.subplots(1, 1)\n",
    "_ = ax.bar(x, y)\n",
    "_ = ax.set_xticks(x)\n",
    "_ = ax.set_xticklabels(column_names, rotation=90)\n",
    "plt.show()"
   ]
  },
  {
   "cell_type": "code",
   "execution_count": 6,
   "metadata": {},
   "outputs": [
    {
     "data": {
      "image/png": "[encoded data removed]",
      "text/plain": [
       "<Figure size 640x480 with 1 Axes>"
      ]
     },
     "metadata": {},
     "output_type": "display_data"
    }
   ],
   "source": [
    "# histogram over number of labels for each data point\n",
    "# look into the data a little bit\n",
    "column_names = Y.columns\n",
    "x = range(len(column_names))\n",
    "y = Y.T.sum()\n",
    "\n",
    "# histogramm of the labels\n",
    "fig, ax = plt.subplots(1, 1)\n",
    "_ = ax.hist(y, bins=35)\n",
    "plt.show()"
   ]
  },
  {
   "cell_type": "code",
   "execution_count": 7,
   "metadata": {},
   "outputs": [
    {
     "data": {
      "text/plain": [
       "1"
      ]
     },
     "execution_count": 7,
     "metadata": {},
     "output_type": "execute_result"
    }
   ],
   "source": [
    "Y['related'].max()"
   ]
  },
  {
   "cell_type": "markdown",
   "metadata": {},
   "source": [
    "### 2. Write a tokenization function to process your text data"
   ]
  },
  {
   "cell_type": "code",
   "execution_count": 8,
   "metadata": {},
   "outputs": [],
   "source": [
    "stop_words = stopwords.words(\"english\")\n",
    "lemmatizer = WordNetLemmatizer()\n",
    "\n",
    "def tokenize(text):\n",
    "    # normalize case and remove punctuation\n",
    "    text = re.sub(r\"[^a-zA-Z0-9]\", \" \", text.lower())\n",
    "    \n",
    "    # tokenize text\n",
    "    tokens = word_tokenize(text)\n",
    "    \n",
    "    # lemmatize andremove stop words\n",
    "    tokens = [lemmatizer.lemmatize(word) for word in tokens if word not in stop_words]\n",
    "\n",
    "    return tokens"
   ]
  },
  {
   "cell_type": "markdown",
   "metadata": {},
   "source": [
    "### 3. Build a machine learning pipeline\n",
    "This machine pipeline should take in the `message` column as input and output classification results on the other 36 categories in the dataset. You may find the [MultiOutputClassifier](http://scikit-learn.org/stable/modules/generated/sklearn.multioutput.MultiOutputClassifier.html) helpful for predicting multiple target variables."
   ]
  },
  {
   "cell_type": "code",
   "execution_count": 49,
   "metadata": {},
   "outputs": [],
   "source": [
    "pipeline = Pipeline([\n",
    "    ('features', FeatureUnion([\n",
    "\n",
    "        ('nlp_pipeline', Pipeline([\n",
    "            ('vect', CountVectorizer(tokenizer=tokenize, \n",
    "                token_pattern=None)), # to deactivate warning\n",
    "            ('tfidf', TfidfTransformer())\n",
    "        ])),\n",
    "\n",
    "        # ('txt_len', TextLengthExtractor())\n",
    "    ])),\n",
    "\n",
    "    ('clf', MultiOutputClassifier(\n",
    "        Pipeline([\n",
    "            ('smt', SMOTE()),\n",
    "            ('LogReg', LogisticRegressionCV(solver='liblinear'))\n",
    "        ])\n",
    "    ))\n",
    "])\n",
    "\n"
   ]
  },
  {
   "cell_type": "markdown",
   "metadata": {},
   "source": [
    "### 4. Train pipeline\n",
    "- Split data into train and test sets\n",
    "- Train pipeline"
   ]
  },
  {
   "cell_type": "code",
   "execution_count": 10,
   "metadata": {},
   "outputs": [],
   "source": [
    "X_train, X_test, Y_train, Y_test = train_test_split(X, Y.iloc[:,:3], random_state=42)\n",
    "idx_empty_column = Y_train.any(axis=0)\n",
    "Y_train = Y_train.loc[:, idx_empty_column]\n",
    "Y_test = Y_test.loc[:, idx_empty_column]"
   ]
  },
  {
   "attachments": {},
   "cell_type": "markdown",
   "metadata": {},
   "source": [
    "Before training the pipeline, I want to see, whether SMOTE works."
   ]
  },
  {
   "cell_type": "code",
   "execution_count": 36,
   "metadata": {},
   "outputs": [],
   "source": [
    "Y_train_loc = Y_train.iloc[:, 0]\n",
    "Y_test_loc = Y_test.iloc[:, 0]\n",
    "# count vectorization\n",
    "X_vectorized = CountVectorizer(tokenizer=tokenize, \n",
    "                token_pattern=None).fit_transform(\n",
    "                    X_train\n",
    "                )\n",
    "# TF-IDF transformation\n",
    "X_tfidf = TfidfTransformer().fit_transform(X_vectorized)\n",
    "\n",
    "# create a model for one output\n",
    "X_SMOTE, Y_SMOTE = SMOTE(sampling_strategy='all').fit_resample(X_tfidf, Y_train_loc)"
   ]
  },
  {
   "cell_type": "code",
   "execution_count": 47,
   "metadata": {},
   "outputs": [],
   "source": [
    "# fit the model\n",
    "mdl = LogisticRegressionCV(\n",
    "    solver='liblinear'\n",
    ").fit(X_SMOTE, Y_SMOTE,)"
   ]
  },
  {
   "cell_type": "code",
   "execution_count": 26,
   "metadata": {
    "tags": []
   },
   "outputs": [
    {
     "data": {
      "text/plain": [
       "<AxesSubplot: >"
      ]
     },
     "execution_count": 26,
     "metadata": {},
     "output_type": "execute_result"
    },
    {
     "data": {
      "image/png": "[encoded data removed]",
      "text/plain": [
       "<Figure size 640x480 with 1 Axes>"
      ]
     },
     "metadata": {},
     "output_type": "display_data"
    }
   ],
   "source": [
    "Y_SMOTE.hist()"
   ]
  },
  {
   "cell_type": "code",
   "execution_count": 48,
   "metadata": {},
   "outputs": [
    {
     "name": "stdout",
     "output_type": "stream",
     "text": [
      "              precision    recall  f1-score   support\n",
      "\n",
      "           0       0.94      0.99      0.96     14866\n",
      "           1       0.98      0.93      0.96     14866\n",
      "\n",
      "    accuracy                           0.96     29732\n",
      "   macro avg       0.96      0.96      0.96     29732\n",
      "weighted avg       0.96      0.96      0.96     29732\n",
      "\n"
     ]
    }
   ],
   "source": [
    "Y_train_pred_loc = mdl.predict(X_SMOTE)\n",
    "print(classification_report(Y_SMOTE, Y_train_pred_loc))"
   ]
  },
  {
   "attachments": {},
   "cell_type": "markdown",
   "metadata": {},
   "source": [
    "Fit the model."
   ]
  },
  {
   "cell_type": "code",
   "execution_count": 50,
   "metadata": {},
   "outputs": [
    {
     "data": {
      "text/html": [
       "<style>#sk-container-id-4 {color: black;background-color: white;}#sk-container-id-4 pre{padding: 0;}#sk-container-id-4 div.sk-toggleable {background-color: white;}#sk-container-id-4 label.sk-toggleable__label {cursor: pointer;display: block;width: 100%;margin-bottom: 0;padding: 0.3em;box-sizing: border-box;text-align: center;}#sk-container-id-4 label.sk-toggleable__label-arrow:before {content: \"▸\";float: left;margin-right: 0.25em;color: #696969;}#sk-container-id-4 label.sk-toggleable__label-arrow:hover:before {color: black;}#sk-container-id-4 div.sk-estimator:hover label.sk-toggleable__label-arrow:before {color: black;}#sk-container-id-4 div.sk-toggleable__content {max-height: 0;max-width: 0;overflow: hidden;text-align: left;background-color: #f0f8ff;}#sk-container-id-4 div.sk-toggleable__content pre {margin: 0.2em;color: black;border-radius: 0.25em;background-color: #f0f8ff;}#sk-container-id-4 input.sk-toggleable__control:checked~div.sk-toggleable__content {max-height: 200px;max-width: 100%;overflow: auto;}#sk-container-id-4 input.sk-toggleable__control:checked~label.sk-toggleable__label-arrow:before {content: \"▾\";}#sk-container-id-4 div.sk-estimator input.sk-toggleable__control:checked~label.sk-toggleable__label {background-color: #d4ebff;}#sk-container-id-4 div.sk-label input.sk-toggleable__control:checked~label.sk-toggleable__label {background-color: #d4ebff;}#sk-container-id-4 input.sk-hidden--visually {border: 0;clip: rect(1px 1px 1px 1px);clip: rect(1px, 1px, 1px, 1px);height: 1px;margin: -1px;overflow: hidden;padding: 0;position: absolute;width: 1px;}#sk-container-id-4 div.sk-estimator {font-family: monospace;background-color: #f0f8ff;border: 1px dotted black;border-radius: 0.25em;box-sizing: border-box;margin-bottom: 0.5em;}#sk-container-id-4 div.sk-estimator:hover {background-color: #d4ebff;}#sk-container-id-4 div.sk-parallel-item::after {content: \"\";width: 100%;border-bottom: 1px solid gray;flex-grow: 1;}#sk-container-id-4 div.sk-label:hover label.sk-toggleable__label {background-color: #d4ebff;}#sk-container-id-4 div.sk-serial::before {content: \"\";position: absolute;border-left: 1px solid gray;box-sizing: border-box;top: 0;bottom: 0;left: 50%;z-index: 0;}#sk-container-id-4 div.sk-serial {display: flex;flex-direction: column;align-items: center;background-color: white;padding-right: 0.2em;padding-left: 0.2em;position: relative;}#sk-container-id-4 div.sk-item {position: relative;z-index: 1;}#sk-container-id-4 div.sk-parallel {display: flex;align-items: stretch;justify-content: center;background-color: white;position: relative;}#sk-container-id-4 div.sk-item::before, #sk-container-id-4 div.sk-parallel-item::before {content: \"\";position: absolute;border-left: 1px solid gray;box-sizing: border-box;top: 0;bottom: 0;left: 50%;z-index: -1;}#sk-container-id-4 div.sk-parallel-item {display: flex;flex-direction: column;z-index: 1;position: relative;background-color: white;}#sk-container-id-4 div.sk-parallel-item:first-child::after {align-self: flex-end;width: 50%;}#sk-container-id-4 div.sk-parallel-item:last-child::after {align-self: flex-start;width: 50%;}#sk-container-id-4 div.sk-parallel-item:only-child::after {width: 0;}#sk-container-id-4 div.sk-dashed-wrapped {border: 1px dashed gray;margin: 0 0.4em 0.5em 0.4em;box-sizing: border-box;padding-bottom: 0.4em;background-color: white;}#sk-container-id-4 div.sk-label label {font-family: monospace;font-weight: bold;display: inline-block;line-height: 1.2em;}#sk-container-id-4 div.sk-label-container {text-align: center;}#sk-container-id-4 div.sk-container {/* jupyter's `normalize.less` sets `[hidden] { display: none; }` but bootstrap.min.css set `[hidden] { display: none !important; }` so we also need the `!important` here to be able to override the default hidden behavior on the sphinx rendered scikit-learn.org. See: https://github.com/scikit-learn/scikit-learn/issues/21755 */display: inline-block !important;position: relative;}#sk-container-id-4 div.sk-text-repr-fallback {display: none;}</style><div id=\"sk-container-id-4\" class=\"sk-top-container\"><div class=\"sk-text-repr-fallback\"><pre>Pipeline(steps=[(&#x27;features&#x27;,\n",
       "                 FeatureUnion(transformer_list=[(&#x27;nlp_pipeline&#x27;,\n",
       "                                                 Pipeline(steps=[(&#x27;vect&#x27;,\n",
       "                                                                  CountVectorizer(token_pattern=None,\n",
       "                                                                                  tokenizer=&lt;function tokenize at 0x000001E0C4FB9990&gt;)),\n",
       "                                                                 (&#x27;tfidf&#x27;,\n",
       "                                                                  TfidfTransformer())]))])),\n",
       "                (&#x27;clf&#x27;,\n",
       "                 MultiOutputClassifier(estimator=Pipeline(steps=[(&#x27;smt&#x27;,\n",
       "                                                                  SMOTE()),\n",
       "                                                                 (&#x27;LogReg&#x27;,\n",
       "                                                                  LogisticRegressionCV(solver=&#x27;liblinear&#x27;))])))])</pre><b>In a Jupyter environment, please rerun this cell to show the HTML representation or trust the notebook. <br />On GitHub, the HTML representation is unable to render, please try loading this page with nbviewer.org.</b></div><div class=\"sk-container\" hidden><div class=\"sk-item sk-dashed-wrapped\"><div class=\"sk-label-container\"><div class=\"sk-label sk-toggleable\"><input class=\"sk-toggleable__control sk-hidden--visually\" id=\"sk-estimator-id-25\" type=\"checkbox\" ><label for=\"sk-estimator-id-25\" class=\"sk-toggleable__label sk-toggleable__label-arrow\">Pipeline</label><div class=\"sk-toggleable__content\"><pre>Pipeline(steps=[(&#x27;features&#x27;,\n",
       "                 FeatureUnion(transformer_list=[(&#x27;nlp_pipeline&#x27;,\n",
       "                                                 Pipeline(steps=[(&#x27;vect&#x27;,\n",
       "                                                                  CountVectorizer(token_pattern=None,\n",
       "                                                                                  tokenizer=&lt;function tokenize at 0x000001E0C4FB9990&gt;)),\n",
       "                                                                 (&#x27;tfidf&#x27;,\n",
       "                                                                  TfidfTransformer())]))])),\n",
       "                (&#x27;clf&#x27;,\n",
       "                 MultiOutputClassifier(estimator=Pipeline(steps=[(&#x27;smt&#x27;,\n",
       "                                                                  SMOTE()),\n",
       "                                                                 (&#x27;LogReg&#x27;,\n",
       "                                                                  LogisticRegressionCV(solver=&#x27;liblinear&#x27;))])))])</pre></div></div></div><div class=\"sk-serial\"><div class=\"sk-item sk-dashed-wrapped\"><div class=\"sk-label-container\"><div class=\"sk-label sk-toggleable\"><input class=\"sk-toggleable__control sk-hidden--visually\" id=\"sk-estimator-id-26\" type=\"checkbox\" ><label for=\"sk-estimator-id-26\" class=\"sk-toggleable__label sk-toggleable__label-arrow\">features: FeatureUnion</label><div class=\"sk-toggleable__content\"><pre>FeatureUnion(transformer_list=[(&#x27;nlp_pipeline&#x27;,\n",
       "                                Pipeline(steps=[(&#x27;vect&#x27;,\n",
       "                                                 CountVectorizer(token_pattern=None,\n",
       "                                                                 tokenizer=&lt;function tokenize at 0x000001E0C4FB9990&gt;)),\n",
       "                                                (&#x27;tfidf&#x27;,\n",
       "                                                 TfidfTransformer())]))])</pre></div></div></div><div class=\"sk-parallel\"><div class=\"sk-parallel-item\"><div class=\"sk-item\"><div class=\"sk-label-container\"><div class=\"sk-label sk-toggleable\"><label>nlp_pipeline</label></div></div><div class=\"sk-serial\"><div class=\"sk-item\"><div class=\"sk-serial\"><div class=\"sk-item\"><div class=\"sk-estimator sk-toggleable\"><input class=\"sk-toggleable__control sk-hidden--visually\" id=\"sk-estimator-id-27\" type=\"checkbox\" ><label for=\"sk-estimator-id-27\" class=\"sk-toggleable__label sk-toggleable__label-arrow\">CountVectorizer</label><div class=\"sk-toggleable__content\"><pre>CountVectorizer(token_pattern=None,\n",
       "                tokenizer=&lt;function tokenize at 0x000001E0C4FB9990&gt;)</pre></div></div></div><div class=\"sk-item\"><div class=\"sk-estimator sk-toggleable\"><input class=\"sk-toggleable__control sk-hidden--visually\" id=\"sk-estimator-id-28\" type=\"checkbox\" ><label for=\"sk-estimator-id-28\" class=\"sk-toggleable__label sk-toggleable__label-arrow\">TfidfTransformer</label><div class=\"sk-toggleable__content\"><pre>TfidfTransformer()</pre></div></div></div></div></div></div></div></div></div></div><div class=\"sk-item sk-dashed-wrapped\"><div class=\"sk-label-container\"><div class=\"sk-label sk-toggleable\"><input class=\"sk-toggleable__control sk-hidden--visually\" id=\"sk-estimator-id-29\" type=\"checkbox\" ><label for=\"sk-estimator-id-29\" class=\"sk-toggleable__label sk-toggleable__label-arrow\">clf: MultiOutputClassifier</label><div class=\"sk-toggleable__content\"><pre>MultiOutputClassifier(estimator=Pipeline(steps=[(&#x27;smt&#x27;, SMOTE()),\n",
       "                                                (&#x27;LogReg&#x27;,\n",
       "                                                 LogisticRegressionCV(solver=&#x27;liblinear&#x27;))]))</pre></div></div></div><div class=\"sk-parallel\"><div class=\"sk-parallel-item\"><div class=\"sk-item\"><div class=\"sk-label-container\"><div class=\"sk-label sk-toggleable\"><input class=\"sk-toggleable__control sk-hidden--visually\" id=\"sk-estimator-id-30\" type=\"checkbox\" ><label for=\"sk-estimator-id-30\" class=\"sk-toggleable__label sk-toggleable__label-arrow\">estimator: Pipeline</label><div class=\"sk-toggleable__content\"><pre>Pipeline(steps=[(&#x27;smt&#x27;, SMOTE()),\n",
       "                (&#x27;LogReg&#x27;, LogisticRegressionCV(solver=&#x27;liblinear&#x27;))])</pre></div></div></div><div class=\"sk-serial\"><div class=\"sk-item\"><div class=\"sk-serial\"><div class=\"sk-item\"><div class=\"sk-estimator sk-toggleable\"><input class=\"sk-toggleable__control sk-hidden--visually\" id=\"sk-estimator-id-31\" type=\"checkbox\" ><label for=\"sk-estimator-id-31\" class=\"sk-toggleable__label sk-toggleable__label-arrow\">SMOTE</label><div class=\"sk-toggleable__content\"><pre>SMOTE()</pre></div></div></div><div class=\"sk-item\"><div class=\"sk-estimator sk-toggleable\"><input class=\"sk-toggleable__control sk-hidden--visually\" id=\"sk-estimator-id-32\" type=\"checkbox\" ><label for=\"sk-estimator-id-32\" class=\"sk-toggleable__label sk-toggleable__label-arrow\">LogisticRegressionCV</label><div class=\"sk-toggleable__content\"><pre>LogisticRegressionCV(solver=&#x27;liblinear&#x27;)</pre></div></div></div></div></div></div></div></div></div></div></div></div></div></div>"
      ],
      "text/plain": [
       "Pipeline(steps=[('features',\n",
       "                 FeatureUnion(transformer_list=[('nlp_pipeline',\n",
       "                                                 Pipeline(steps=[('vect',\n",
       "                                                                  CountVectorizer(token_pattern=None,\n",
       "                                                                                  tokenizer=<function tokenize at 0x000001E0C4FB9990>)),\n",
       "                                                                 ('tfidf',\n",
       "                                                                  TfidfTransformer())]))])),\n",
       "                ('clf',\n",
       "                 MultiOutputClassifier(estimator=Pipeline(steps=[('smt',\n",
       "                                                                  SMOTE()),\n",
       "                                                                 ('LogReg',\n",
       "                                                                  LogisticRegressionCV(solver='liblinear'))])))])"
      ]
     },
     "execution_count": 50,
     "metadata": {},
     "output_type": "execute_result"
    }
   ],
   "source": [
    "pipeline.fit(X_train, Y_train)"
   ]
  },
  {
   "cell_type": "markdown",
   "metadata": {},
   "source": [
    "### 5. Test your model\n",
    "Report the f1 score, precision and recall for each output category of the dataset. You can do this by iterating through the columns and calling sklearn's `classification_report` on each."
   ]
  },
  {
   "cell_type": "code",
   "execution_count": 60,
   "metadata": {},
   "outputs": [],
   "source": [
    "def classification_report_all_labels(Y_test, Y_test_pred):\n",
    "    \"\"\"\n",
    "    Prints the classification report for all labels in Y_test and Y_test_pred.\n",
    "    \"\"\"\n",
    "    for idx, column in enumerate(Y_test.columns):\n",
    "        print('Column: {}'.format(column))\n",
    "        print(classification_report(Y_test.iloc[:, idx], Y_test_pred[:, idx]))"
   ]
  },
  {
   "cell_type": "code",
   "execution_count": 61,
   "metadata": {},
   "outputs": [
    {
     "name": "stdout",
     "output_type": "stream",
     "text": [
      "Column: related\n",
      "              precision    recall  f1-score   support\n",
      "\n",
      "           0       0.27      0.40      0.32      1456\n",
      "           1       0.80      0.68      0.74      5048\n",
      "\n",
      "    accuracy                           0.62      6504\n",
      "   macro avg       0.53      0.54      0.53      6504\n",
      "weighted avg       0.68      0.62      0.64      6504\n",
      "\n",
      "Column: request\n",
      "              precision    recall  f1-score   support\n",
      "\n",
      "           0       0.87      0.79      0.83      5317\n",
      "           1       0.34      0.47      0.39      1187\n",
      "\n",
      "    accuracy                           0.73      6504\n",
      "   macro avg       0.60      0.63      0.61      6504\n",
      "weighted avg       0.77      0.73      0.75      6504\n",
      "\n",
      "Column: offer\n",
      "              precision    recall  f1-score   support\n",
      "\n",
      "           0       1.00      1.00      1.00      6474\n",
      "           1       0.00      0.00      0.00        30\n",
      "\n",
      "    accuracy                           0.99      6504\n",
      "   macro avg       0.50      0.50      0.50      6504\n",
      "weighted avg       0.99      0.99      0.99      6504\n",
      "\n"
     ]
    }
   ],
   "source": [
    "Y_test_pred = pipeline.predict(X_test)\n",
    "\n",
    "classification_report_all_labels(Y_test, Y_test_pred)\n",
    "\n"
   ]
  },
  {
   "cell_type": "markdown",
   "metadata": {},
   "source": [
    "### 6. Improve your model\n",
    "Use grid search to find better parameters. "
   ]
  },
  {
   "cell_type": "code",
   "execution_count": null,
   "metadata": {},
   "outputs": [],
   "source": [
    "# a = ['help, help, help',\n",
    "#     'please help me']\n",
    "\n",
    "# b = CountVectorizer(tokenizer=tokenize).fit_transform(a)\n",
    "\n",
    "# transformer = TfidfTransformer(smooth_idf=False)\n",
    "\n",
    "# # use counts from count vectorizer results to compute tf-idf values\n",
    "# tfidf = transformer.fit_transform(b)\n",
    "\n",
    "# # convert sparse matrix to numpy array to view\n",
    "# tfidf.toarray()\n",
    "# # b.toarray()"
   ]
  },
  {
   "cell_type": "code",
   "execution_count": 52,
   "metadata": {},
   "outputs": [
    {
     "data": {
      "text/plain": [
       "dict_keys(['memory', 'steps', 'verbose', 'features', 'clf', 'features__n_jobs', 'features__transformer_list', 'features__transformer_weights', 'features__verbose', 'features__nlp_pipeline', 'features__nlp_pipeline__memory', 'features__nlp_pipeline__steps', 'features__nlp_pipeline__verbose', 'features__nlp_pipeline__vect', 'features__nlp_pipeline__tfidf', 'features__nlp_pipeline__vect__analyzer', 'features__nlp_pipeline__vect__binary', 'features__nlp_pipeline__vect__decode_error', 'features__nlp_pipeline__vect__dtype', 'features__nlp_pipeline__vect__encoding', 'features__nlp_pipeline__vect__input', 'features__nlp_pipeline__vect__lowercase', 'features__nlp_pipeline__vect__max_df', 'features__nlp_pipeline__vect__max_features', 'features__nlp_pipeline__vect__min_df', 'features__nlp_pipeline__vect__ngram_range', 'features__nlp_pipeline__vect__preprocessor', 'features__nlp_pipeline__vect__stop_words', 'features__nlp_pipeline__vect__strip_accents', 'features__nlp_pipeline__vect__token_pattern', 'features__nlp_pipeline__vect__tokenizer', 'features__nlp_pipeline__vect__vocabulary', 'features__nlp_pipeline__tfidf__norm', 'features__nlp_pipeline__tfidf__smooth_idf', 'features__nlp_pipeline__tfidf__sublinear_tf', 'features__nlp_pipeline__tfidf__use_idf', 'clf__estimator__memory', 'clf__estimator__steps', 'clf__estimator__verbose', 'clf__estimator__smt', 'clf__estimator__LogReg', 'clf__estimator__smt__k_neighbors', 'clf__estimator__smt__n_jobs', 'clf__estimator__smt__random_state', 'clf__estimator__smt__sampling_strategy', 'clf__estimator__LogReg__Cs', 'clf__estimator__LogReg__class_weight', 'clf__estimator__LogReg__cv', 'clf__estimator__LogReg__dual', 'clf__estimator__LogReg__fit_intercept', 'clf__estimator__LogReg__intercept_scaling', 'clf__estimator__LogReg__l1_ratios', 'clf__estimator__LogReg__max_iter', 'clf__estimator__LogReg__multi_class', 'clf__estimator__LogReg__n_jobs', 'clf__estimator__LogReg__penalty', 'clf__estimator__LogReg__random_state', 'clf__estimator__LogReg__refit', 'clf__estimator__LogReg__scoring', 'clf__estimator__LogReg__solver', 'clf__estimator__LogReg__tol', 'clf__estimator__LogReg__verbose', 'clf__estimator', 'clf__n_jobs'])"
      ]
     },
     "execution_count": 52,
     "metadata": {},
     "output_type": "execute_result"
    }
   ],
   "source": [
    "pipeline.get_params().keys()\n"
   ]
  },
  {
   "cell_type": "code",
   "execution_count": 56,
   "metadata": {},
   "outputs": [],
   "source": [
    "# define parameters for grid search\n",
    "parameters= {\n",
    "    # # tokenizer\n",
    "    # 'features__nlp_pipeline__vect__tokenizer':\n",
    "    #     [None, tokenize],\n",
    "    # # stop_words\n",
    "    # 'features__nlp_pipeline__vect__stop_words':\n",
    "    #     ['english', stopwords.words('english')],\n",
    "    # max features\n",
    "    # 'features__nlp_pipeline__vect__min_df':\n",
    "    #     [1, 2, 10],\n",
    "    # classifier\n",
    "    'clf__estimator__LogReg':\n",
    "        [\n",
    "            LogisticRegression(solver='liblinear'),\n",
    "            MultinomialNB()\n",
    "        ]\n",
    "}\n",
    "\n",
    "# parameters = clf__estimator LogisticRegression, LogisticRegressionCV\n",
    "# tokenizer None tokenize\n",
    "# stop_words stopwords\n",
    "# max_features 0 11111 999999\n",
    "# smooth_idf True False\n",
    "# norm{‘l1’, ‘l2’} \n",
    "# penalty l1 l2 elasticnet\n",
    "# l1_ratio"
   ]
  },
  {
   "cell_type": "code",
   "execution_count": 57,
   "metadata": {},
   "outputs": [],
   "source": [
    "\n",
    "cv = GridSearchCV(pipeline, param_grid=parameters)"
   ]
  },
  {
   "cell_type": "code",
   "execution_count": 58,
   "metadata": {},
   "outputs": [
    {
     "data": {
      "text/html": [
       "<style>#sk-container-id-5 {color: black;background-color: white;}#sk-container-id-5 pre{padding: 0;}#sk-container-id-5 div.sk-toggleable {background-color: white;}#sk-container-id-5 label.sk-toggleable__label {cursor: pointer;display: block;width: 100%;margin-bottom: 0;padding: 0.3em;box-sizing: border-box;text-align: center;}#sk-container-id-5 label.sk-toggleable__label-arrow:before {content: \"▸\";float: left;margin-right: 0.25em;color: #696969;}#sk-container-id-5 label.sk-toggleable__label-arrow:hover:before {color: black;}#sk-container-id-5 div.sk-estimator:hover label.sk-toggleable__label-arrow:before {color: black;}#sk-container-id-5 div.sk-toggleable__content {max-height: 0;max-width: 0;overflow: hidden;text-align: left;background-color: #f0f8ff;}#sk-container-id-5 div.sk-toggleable__content pre {margin: 0.2em;color: black;border-radius: 0.25em;background-color: #f0f8ff;}#sk-container-id-5 input.sk-toggleable__control:checked~div.sk-toggleable__content {max-height: 200px;max-width: 100%;overflow: auto;}#sk-container-id-5 input.sk-toggleable__control:checked~label.sk-toggleable__label-arrow:before {content: \"▾\";}#sk-container-id-5 div.sk-estimator input.sk-toggleable__control:checked~label.sk-toggleable__label {background-color: #d4ebff;}#sk-container-id-5 div.sk-label input.sk-toggleable__control:checked~label.sk-toggleable__label {background-color: #d4ebff;}#sk-container-id-5 input.sk-hidden--visually {border: 0;clip: rect(1px 1px 1px 1px);clip: rect(1px, 1px, 1px, 1px);height: 1px;margin: -1px;overflow: hidden;padding: 0;position: absolute;width: 1px;}#sk-container-id-5 div.sk-estimator {font-family: monospace;background-color: #f0f8ff;border: 1px dotted black;border-radius: 0.25em;box-sizing: border-box;margin-bottom: 0.5em;}#sk-container-id-5 div.sk-estimator:hover {background-color: #d4ebff;}#sk-container-id-5 div.sk-parallel-item::after {content: \"\";width: 100%;border-bottom: 1px solid gray;flex-grow: 1;}#sk-container-id-5 div.sk-label:hover label.sk-toggleable__label {background-color: #d4ebff;}#sk-container-id-5 div.sk-serial::before {content: \"\";position: absolute;border-left: 1px solid gray;box-sizing: border-box;top: 0;bottom: 0;left: 50%;z-index: 0;}#sk-container-id-5 div.sk-serial {display: flex;flex-direction: column;align-items: center;background-color: white;padding-right: 0.2em;padding-left: 0.2em;position: relative;}#sk-container-id-5 div.sk-item {position: relative;z-index: 1;}#sk-container-id-5 div.sk-parallel {display: flex;align-items: stretch;justify-content: center;background-color: white;position: relative;}#sk-container-id-5 div.sk-item::before, #sk-container-id-5 div.sk-parallel-item::before {content: \"\";position: absolute;border-left: 1px solid gray;box-sizing: border-box;top: 0;bottom: 0;left: 50%;z-index: -1;}#sk-container-id-5 div.sk-parallel-item {display: flex;flex-direction: column;z-index: 1;position: relative;background-color: white;}#sk-container-id-5 div.sk-parallel-item:first-child::after {align-self: flex-end;width: 50%;}#sk-container-id-5 div.sk-parallel-item:last-child::after {align-self: flex-start;width: 50%;}#sk-container-id-5 div.sk-parallel-item:only-child::after {width: 0;}#sk-container-id-5 div.sk-dashed-wrapped {border: 1px dashed gray;margin: 0 0.4em 0.5em 0.4em;box-sizing: border-box;padding-bottom: 0.4em;background-color: white;}#sk-container-id-5 div.sk-label label {font-family: monospace;font-weight: bold;display: inline-block;line-height: 1.2em;}#sk-container-id-5 div.sk-label-container {text-align: center;}#sk-container-id-5 div.sk-container {/* jupyter's `normalize.less` sets `[hidden] { display: none; }` but bootstrap.min.css set `[hidden] { display: none !important; }` so we also need the `!important` here to be able to override the default hidden behavior on the sphinx rendered scikit-learn.org. See: https://github.com/scikit-learn/scikit-learn/issues/21755 */display: inline-block !important;position: relative;}#sk-container-id-5 div.sk-text-repr-fallback {display: none;}</style><div id=\"sk-container-id-5\" class=\"sk-top-container\"><div class=\"sk-text-repr-fallback\"><pre>GridSearchCV(estimator=Pipeline(steps=[(&#x27;features&#x27;,\n",
       "                                        FeatureUnion(transformer_list=[(&#x27;nlp_pipeline&#x27;,\n",
       "                                                                        Pipeline(steps=[(&#x27;vect&#x27;,\n",
       "                                                                                         CountVectorizer(token_pattern=None,\n",
       "                                                                                                         tokenizer=&lt;function tokenize at 0x000001E0C4FB9990&gt;)),\n",
       "                                                                                        (&#x27;tfidf&#x27;,\n",
       "                                                                                         TfidfTransformer())]))])),\n",
       "                                       (&#x27;clf&#x27;,\n",
       "                                        MultiOutputClassifier(estimator=Pipeline(steps=[(&#x27;smt&#x27;,\n",
       "                                                                                         SMOTE()),\n",
       "                                                                                        (&#x27;LogReg&#x27;,\n",
       "                                                                                         LogisticRegressionCV(solver=&#x27;liblinear&#x27;))])))]),\n",
       "             param_grid={&#x27;clf__estimator__LogReg&#x27;: [LogisticRegression(solver=&#x27;liblinear&#x27;),\n",
       "                                                    MultinomialNB()]})</pre><b>In a Jupyter environment, please rerun this cell to show the HTML representation or trust the notebook. <br />On GitHub, the HTML representation is unable to render, please try loading this page with nbviewer.org.</b></div><div class=\"sk-container\" hidden><div class=\"sk-item sk-dashed-wrapped\"><div class=\"sk-label-container\"><div class=\"sk-label sk-toggleable\"><input class=\"sk-toggleable__control sk-hidden--visually\" id=\"sk-estimator-id-33\" type=\"checkbox\" ><label for=\"sk-estimator-id-33\" class=\"sk-toggleable__label sk-toggleable__label-arrow\">GridSearchCV</label><div class=\"sk-toggleable__content\"><pre>GridSearchCV(estimator=Pipeline(steps=[(&#x27;features&#x27;,\n",
       "                                        FeatureUnion(transformer_list=[(&#x27;nlp_pipeline&#x27;,\n",
       "                                                                        Pipeline(steps=[(&#x27;vect&#x27;,\n",
       "                                                                                         CountVectorizer(token_pattern=None,\n",
       "                                                                                                         tokenizer=&lt;function tokenize at 0x000001E0C4FB9990&gt;)),\n",
       "                                                                                        (&#x27;tfidf&#x27;,\n",
       "                                                                                         TfidfTransformer())]))])),\n",
       "                                       (&#x27;clf&#x27;,\n",
       "                                        MultiOutputClassifier(estimator=Pipeline(steps=[(&#x27;smt&#x27;,\n",
       "                                                                                         SMOTE()),\n",
       "                                                                                        (&#x27;LogReg&#x27;,\n",
       "                                                                                         LogisticRegressionCV(solver=&#x27;liblinear&#x27;))])))]),\n",
       "             param_grid={&#x27;clf__estimator__LogReg&#x27;: [LogisticRegression(solver=&#x27;liblinear&#x27;),\n",
       "                                                    MultinomialNB()]})</pre></div></div></div><div class=\"sk-parallel\"><div class=\"sk-parallel-item\"><div class=\"sk-item\"><div class=\"sk-label-container\"><div class=\"sk-label sk-toggleable\"><input class=\"sk-toggleable__control sk-hidden--visually\" id=\"sk-estimator-id-34\" type=\"checkbox\" ><label for=\"sk-estimator-id-34\" class=\"sk-toggleable__label sk-toggleable__label-arrow\">estimator: Pipeline</label><div class=\"sk-toggleable__content\"><pre>Pipeline(steps=[(&#x27;features&#x27;,\n",
       "                 FeatureUnion(transformer_list=[(&#x27;nlp_pipeline&#x27;,\n",
       "                                                 Pipeline(steps=[(&#x27;vect&#x27;,\n",
       "                                                                  CountVectorizer(token_pattern=None,\n",
       "                                                                                  tokenizer=&lt;function tokenize at 0x000001E0C4FB9990&gt;)),\n",
       "                                                                 (&#x27;tfidf&#x27;,\n",
       "                                                                  TfidfTransformer())]))])),\n",
       "                (&#x27;clf&#x27;,\n",
       "                 MultiOutputClassifier(estimator=Pipeline(steps=[(&#x27;smt&#x27;,\n",
       "                                                                  SMOTE()),\n",
       "                                                                 (&#x27;LogReg&#x27;,\n",
       "                                                                  LogisticRegressionCV(solver=&#x27;liblinear&#x27;))])))])</pre></div></div></div><div class=\"sk-serial\"><div class=\"sk-item\"><div class=\"sk-serial\"><div class=\"sk-item sk-dashed-wrapped\"><div class=\"sk-label-container\"><div class=\"sk-label sk-toggleable\"><input class=\"sk-toggleable__control sk-hidden--visually\" id=\"sk-estimator-id-35\" type=\"checkbox\" ><label for=\"sk-estimator-id-35\" class=\"sk-toggleable__label sk-toggleable__label-arrow\">features: FeatureUnion</label><div class=\"sk-toggleable__content\"><pre>FeatureUnion(transformer_list=[(&#x27;nlp_pipeline&#x27;,\n",
       "                                Pipeline(steps=[(&#x27;vect&#x27;,\n",
       "                                                 CountVectorizer(token_pattern=None,\n",
       "                                                                 tokenizer=&lt;function tokenize at 0x000001E0C4FB9990&gt;)),\n",
       "                                                (&#x27;tfidf&#x27;,\n",
       "                                                 TfidfTransformer())]))])</pre></div></div></div><div class=\"sk-parallel\"><div class=\"sk-parallel-item\"><div class=\"sk-item\"><div class=\"sk-label-container\"><div class=\"sk-label sk-toggleable\"><label>nlp_pipeline</label></div></div><div class=\"sk-serial\"><div class=\"sk-item\"><div class=\"sk-serial\"><div class=\"sk-item\"><div class=\"sk-estimator sk-toggleable\"><input class=\"sk-toggleable__control sk-hidden--visually\" id=\"sk-estimator-id-36\" type=\"checkbox\" ><label for=\"sk-estimator-id-36\" class=\"sk-toggleable__label sk-toggleable__label-arrow\">CountVectorizer</label><div class=\"sk-toggleable__content\"><pre>CountVectorizer(token_pattern=None,\n",
       "                tokenizer=&lt;function tokenize at 0x000001E0C4FB9990&gt;)</pre></div></div></div><div class=\"sk-item\"><div class=\"sk-estimator sk-toggleable\"><input class=\"sk-toggleable__control sk-hidden--visually\" id=\"sk-estimator-id-37\" type=\"checkbox\" ><label for=\"sk-estimator-id-37\" class=\"sk-toggleable__label sk-toggleable__label-arrow\">TfidfTransformer</label><div class=\"sk-toggleable__content\"><pre>TfidfTransformer()</pre></div></div></div></div></div></div></div></div></div></div><div class=\"sk-item sk-dashed-wrapped\"><div class=\"sk-label-container\"><div class=\"sk-label sk-toggleable\"><input class=\"sk-toggleable__control sk-hidden--visually\" id=\"sk-estimator-id-38\" type=\"checkbox\" ><label for=\"sk-estimator-id-38\" class=\"sk-toggleable__label sk-toggleable__label-arrow\">clf: MultiOutputClassifier</label><div class=\"sk-toggleable__content\"><pre>MultiOutputClassifier(estimator=Pipeline(steps=[(&#x27;smt&#x27;, SMOTE()),\n",
       "                                                (&#x27;LogReg&#x27;,\n",
       "                                                 LogisticRegressionCV(solver=&#x27;liblinear&#x27;))]))</pre></div></div></div><div class=\"sk-parallel\"><div class=\"sk-parallel-item\"><div class=\"sk-item\"><div class=\"sk-label-container\"><div class=\"sk-label sk-toggleable\"><input class=\"sk-toggleable__control sk-hidden--visually\" id=\"sk-estimator-id-39\" type=\"checkbox\" ><label for=\"sk-estimator-id-39\" class=\"sk-toggleable__label sk-toggleable__label-arrow\">estimator: Pipeline</label><div class=\"sk-toggleable__content\"><pre>Pipeline(steps=[(&#x27;smt&#x27;, SMOTE()),\n",
       "                (&#x27;LogReg&#x27;, LogisticRegressionCV(solver=&#x27;liblinear&#x27;))])</pre></div></div></div><div class=\"sk-serial\"><div class=\"sk-item\"><div class=\"sk-serial\"><div class=\"sk-item\"><div class=\"sk-estimator sk-toggleable\"><input class=\"sk-toggleable__control sk-hidden--visually\" id=\"sk-estimator-id-40\" type=\"checkbox\" ><label for=\"sk-estimator-id-40\" class=\"sk-toggleable__label sk-toggleable__label-arrow\">SMOTE</label><div class=\"sk-toggleable__content\"><pre>SMOTE()</pre></div></div></div><div class=\"sk-item\"><div class=\"sk-estimator sk-toggleable\"><input class=\"sk-toggleable__control sk-hidden--visually\" id=\"sk-estimator-id-41\" type=\"checkbox\" ><label for=\"sk-estimator-id-41\" class=\"sk-toggleable__label sk-toggleable__label-arrow\">LogisticRegressionCV</label><div class=\"sk-toggleable__content\"><pre>LogisticRegressionCV(solver=&#x27;liblinear&#x27;)</pre></div></div></div></div></div></div></div></div></div></div></div></div></div></div></div></div></div></div></div>"
      ],
      "text/plain": [
       "GridSearchCV(estimator=Pipeline(steps=[('features',\n",
       "                                        FeatureUnion(transformer_list=[('nlp_pipeline',\n",
       "                                                                        Pipeline(steps=[('vect',\n",
       "                                                                                         CountVectorizer(token_pattern=None,\n",
       "                                                                                                         tokenizer=<function tokenize at 0x000001E0C4FB9990>)),\n",
       "                                                                                        ('tfidf',\n",
       "                                                                                         TfidfTransformer())]))])),\n",
       "                                       ('clf',\n",
       "                                        MultiOutputClassifier(estimator=Pipeline(steps=[('smt',\n",
       "                                                                                         SMOTE()),\n",
       "                                                                                        ('LogReg',\n",
       "                                                                                         LogisticRegressionCV(solver='liblinear'))])))]),\n",
       "             param_grid={'clf__estimator__LogReg': [LogisticRegression(solver='liblinear'),\n",
       "                                                    MultinomialNB()]})"
      ]
     },
     "execution_count": 58,
     "metadata": {},
     "output_type": "execute_result"
    }
   ],
   "source": [
    "cv.fit(X_train, Y_train)"
   ]
  },
  {
   "cell_type": "code",
   "execution_count": 59,
   "metadata": {},
   "outputs": [
    {
     "data": {
      "text/plain": [
       "{'mean_fit_time': array([4.70096049, 4.08036466]),\n",
       " 'std_fit_time': array([0.58025815, 0.03118802]),\n",
       " 'mean_score_time': array([0.86958251, 0.81406846]),\n",
       " 'std_score_time': array([0.09625733, 0.02106304]),\n",
       " 'param_clf__estimator__LogReg': masked_array(data=[LogisticRegression(solver='liblinear'),\n",
       "                    MultinomialNB()],\n",
       "              mask=[False, False],\n",
       "        fill_value='?',\n",
       "             dtype=object),\n",
       " 'params': [{'clf__estimator__LogReg': LogisticRegression(solver='liblinear')},\n",
       "  {'clf__estimator__LogReg': MultinomialNB()}],\n",
       " 'split0_test_score': array([0.49628491, 0.45580323]),\n",
       " 'split1_test_score': array([0.49436187, 0.45848283]),\n",
       " 'split2_test_score': array([0.48872373, 0.44951307]),\n",
       " 'split3_test_score': array([0.49589954, 0.45002563]),\n",
       " 'split4_test_score': array([0.48411071, 0.4528447 ]),\n",
       " 'mean_test_score': array([0.49187615, 0.45333389]),\n",
       " 'std_test_score': array([0.00473378, 0.00341736]),\n",
       " 'rank_test_score': array([1, 2])}"
      ]
     },
     "execution_count": 59,
     "metadata": {},
     "output_type": "execute_result"
    }
   ],
   "source": [
    "cv.cv_results_"
   ]
  },
  {
   "cell_type": "markdown",
   "metadata": {},
   "source": [
    "### 7. Test your model\n",
    "Show the accuracy, precision, and recall of the tuned model.  \n",
    "\n",
    "Since this project focuses on code quality, process, and  pipelines, there is no minimum performance metric needed to pass. However, make sure to fine tune your models for accuracy, precision and recall to make your project stand out - especially for your portfolio!"
   ]
  },
  {
   "cell_type": "code",
   "execution_count": 62,
   "metadata": {},
   "outputs": [
    {
     "name": "stdout",
     "output_type": "stream",
     "text": [
      "Column: related\n",
      "              precision    recall  f1-score   support\n",
      "\n",
      "           0       0.27      0.40      0.32      1456\n",
      "           1       0.80      0.68      0.74      5048\n",
      "\n",
      "    accuracy                           0.62      6504\n",
      "   macro avg       0.53      0.54      0.53      6504\n",
      "weighted avg       0.68      0.62      0.64      6504\n",
      "\n",
      "Column: request\n",
      "              precision    recall  f1-score   support\n",
      "\n",
      "           0       0.87      0.79      0.83      5317\n",
      "           1       0.34      0.47      0.39      1187\n",
      "\n",
      "    accuracy                           0.73      6504\n",
      "   macro avg       0.60      0.63      0.61      6504\n",
      "weighted avg       0.77      0.73      0.75      6504\n",
      "\n",
      "Column: offer\n",
      "              precision    recall  f1-score   support\n",
      "\n",
      "           0       1.00      1.00      1.00      6474\n",
      "           1       0.00      0.00      0.00        30\n",
      "\n",
      "    accuracy                           0.99      6504\n",
      "   macro avg       0.50      0.50      0.50      6504\n",
      "weighted avg       0.99      0.99      0.99      6504\n",
      "\n"
     ]
    }
   ],
   "source": [
    "mdl_chosen = cv.best_estimator_\n",
    "\n",
    "Y_test_pred_cv = pipeline.predict(X_test)\n",
    "\n",
    "classification_report_all_labels(Y_test, Y_test_pred_cv)\n",
    "\n"
   ]
  },
  {
   "cell_type": "markdown",
   "metadata": {},
   "source": [
    "### 8. Try improving your model further. Here are a few ideas:\n",
    "* try other machine learning algorithms\n",
    "* add other features besides the TF-IDF"
   ]
  },
  {
   "cell_type": "code",
   "execution_count": null,
   "metadata": {},
   "outputs": [],
   "source": []
  },
  {
   "cell_type": "markdown",
   "metadata": {},
   "source": [
    "### 9. Export your model as a pickle file"
   ]
  },
  {
   "cell_type": "code",
   "execution_count": 68,
   "metadata": {},
   "outputs": [],
   "source": [
    "filename = 'test_model.pkl'\n",
    "pickle.dump(cv.best_estimator_, open(filename, 'wb'))"
   ]
  },
  {
   "cell_type": "markdown",
   "metadata": {},
   "source": [
    "### 10. Use this notebook to complete `train.py`\n",
    "Use the template file attached in the Resources folder to write a script that runs the steps above to create a database and export a model based on a new dataset specified by the user."
   ]
  },
  {
   "cell_type": "code",
   "execution_count": null,
   "metadata": {},
   "outputs": [],
   "source": []
  }
 ],
 "metadata": {
  "kernelspec": {
   "display_name": ".venv",
   "language": "python",
   "name": "python3"
  },
  "language_info": {
   "codemirror_mode": {
    "name": "ipython",
    "version": 3
   },
   "file_extension": ".py",
   "mimetype": "text/x-python",
   "name": "python",
   "nbconvert_exporter": "python",
   "pygments_lexer": "ipython3",
   "version": "3.10.7"
  },
  "vscode": {
   "interpreter": {
    "hash": "ed8c1ee75875bde896f4d9a11ce22ca4b6febced0640430b8cac19c131d19e2f"
   }
  }
 },
 "nbformat": 4,
 "nbformat_minor": 2
}
